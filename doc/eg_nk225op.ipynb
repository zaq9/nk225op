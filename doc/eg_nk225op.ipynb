{
  "nbformat": 4,
  "nbformat_minor": 0,
  "metadata": {
    "colab": {
      "name": "eg_nk225op.ipynb",
      "version": "0.3.2",
      "provenance": [],
      "include_colab_link": true
    },
    "kernelspec": {
      "name": "python3",
      "display_name": "Python 3"
    }
  },
  "cells": [
    {
      "cell_type": "markdown",
      "metadata": {
        "id": "view-in-github",
        "colab_type": "text"
      },
      "source": [
        "<a href=\"https://colab.research.google.com/github/zaq9/nk225op/blob/master/doc/eg_nk225op.ipynb\" target=\"_parent\"><img src=\"https://colab.research.google.com/assets/colab-badge.svg\" alt=\"Open In Colab\"/></a>"
      ]
    },
    {
      "metadata": {
        "id": "5qvrrMTrBVLj",
        "colab_type": "code",
        "colab": {}
      },
      "cell_type": "code",
      "source": [
        "!pip install git+https://github.com/zaq9/nk225op"
      ],
      "execution_count": 0,
      "outputs": []
    },
    {
      "metadata": {
        "id": "uMwLFfDkC11J",
        "colab_type": "code",
        "colab": {
          "base_uri": "https://localhost:8080/",
          "height": 432
        },
        "outputId": "0ad0db92-bb5d-4501-fcb7-8b601ae3f91d"
      },
      "cell_type": "code",
      "source": [
        "#ex :　最新の日経２２５清算値データを取得\n",
        "#（２月限と３月限、　権利価格20500～20750）\n",
        "\n",
        "\n",
        "from nk225op import nk225op as nk\n",
        "\n",
        "nk([201902,201903] , [20500,20750])"
      ],
      "execution_count": 4,
      "outputs": [
        {
          "output_type": "execute_result",
          "data": {
            "text/html": [
              "<div>\n",
              "<style scoped>\n",
              "    .dataframe tbody tr th:only-of-type {\n",
              "        vertical-align: middle;\n",
              "    }\n",
              "\n",
              "    .dataframe tbody tr th {\n",
              "        vertical-align: top;\n",
              "    }\n",
              "\n",
              "    .dataframe thead th {\n",
              "        text-align: right;\n",
              "    }\n",
              "</style>\n",
              "<table border=\"1\" class=\"dataframe\">\n",
              "  <thead>\n",
              "    <tr style=\"text-align: right;\">\n",
              "      <th></th>\n",
              "      <th>PRICE</th>\n",
              "      <th>IV</th>\n",
              "    </tr>\n",
              "    <tr>\n",
              "      <th>lb</th>\n",
              "      <th></th>\n",
              "      <th></th>\n",
              "    </tr>\n",
              "  </thead>\n",
              "  <tbody>\n",
              "    <tr>\n",
              "      <th>02/C20500</th>\n",
              "      <td>340</td>\n",
              "      <td>18.3289</td>\n",
              "    </tr>\n",
              "    <tr>\n",
              "      <th>02/C20625</th>\n",
              "      <td>260</td>\n",
              "      <td>17.5826</td>\n",
              "    </tr>\n",
              "    <tr>\n",
              "      <th>02/C20750</th>\n",
              "      <td>195</td>\n",
              "      <td>17.2045</td>\n",
              "    </tr>\n",
              "    <tr>\n",
              "      <th>03/C20500</th>\n",
              "      <td>545</td>\n",
              "      <td>17.5902</td>\n",
              "    </tr>\n",
              "    <tr>\n",
              "      <th>03/C20625</th>\n",
              "      <td>470</td>\n",
              "      <td>17.2074</td>\n",
              "    </tr>\n",
              "    <tr>\n",
              "      <th>03/C20750</th>\n",
              "      <td>395</td>\n",
              "      <td>16.6239</td>\n",
              "    </tr>\n",
              "    <tr>\n",
              "      <th>02/P20500</th>\n",
              "      <td>175</td>\n",
              "      <td>18.2976</td>\n",
              "    </tr>\n",
              "    <tr>\n",
              "      <th>02/P20625</th>\n",
              "      <td>225</td>\n",
              "      <td>17.9199</td>\n",
              "    </tr>\n",
              "    <tr>\n",
              "      <th>02/P20750</th>\n",
              "      <td>300</td>\n",
              "      <td>18.6512</td>\n",
              "    </tr>\n",
              "    <tr>\n",
              "      <th>03/P20500</th>\n",
              "      <td>410</td>\n",
              "      <td>18.1875</td>\n",
              "    </tr>\n",
              "    <tr>\n",
              "      <th>03/P20625</th>\n",
              "      <td>460</td>\n",
              "      <td>17.7986</td>\n",
              "    </tr>\n",
              "    <tr>\n",
              "      <th>03/P20750</th>\n",
              "      <td>515</td>\n",
              "      <td>17.4041</td>\n",
              "    </tr>\n",
              "  </tbody>\n",
              "</table>\n",
              "</div>"
            ],
            "text/plain": [
              "           PRICE       IV\n",
              "lb                       \n",
              "02/C20500    340  18.3289\n",
              "02/C20625    260  17.5826\n",
              "02/C20750    195  17.2045\n",
              "03/C20500    545  17.5902\n",
              "03/C20625    470  17.2074\n",
              "03/C20750    395  16.6239\n",
              "02/P20500    175  18.2976\n",
              "02/P20625    225  17.9199\n",
              "02/P20750    300  18.6512\n",
              "03/P20500    410  18.1875\n",
              "03/P20625    460  17.7986\n",
              "03/P20750    515  17.4041"
            ]
          },
          "metadata": {
            "tags": []
          },
          "execution_count": 4
        }
      ]
    }
  ]
}