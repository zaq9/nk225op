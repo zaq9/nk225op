{
  "nbformat": 4,
  "nbformat_minor": 0,
  "metadata": {
    "colab": {
      "name": "eg_nk225op.ipynb",
      "version": "0.3.2",
      "provenance": []
    },
    "kernelspec": {
      "name": "python3",
      "display_name": "Python 3"
    }
  },
  "cells": [
    {
      "metadata": {
        "id": "5qvrrMTrBVLj",
        "colab_type": "code",
        "colab": {}
      },
      "cell_type": "code",
      "source": [
        "!pip install nk225op"
      ],
      "execution_count": 0,
      "outputs": []
    },
    {
      "metadata": {
        "id": "uMwLFfDkC11J",
        "colab_type": "code",
        "outputId": "c361e178-544a-4e06-ec65-3e26ebeffca6",
        "colab": {
          "base_uri": "https://localhost:8080/",
          "height": 457
        }
      },
      "cell_type": "code",
      "source": [
        "#ex :　最新の日経２２５清算値データを取得\n",
        "#（２月限と３月限、　権利価格20500～20750）\n",
        "\n",
        "\n",
        "from nk225op import nk225op as nk\n",
        "\n",
        "nk([201902,201903] , [20500,20750])"
      ],
      "execution_count": 2,
      "outputs": [
        {
          "output_type": "execute_result",
          "data": {
            "text/html": [
              "<div>\n",
              "<style scoped>\n",
              "    .dataframe tbody tr th:only-of-type {\n",
              "        vertical-align: middle;\n",
              "    }\n",
              "\n",
              "    .dataframe tbody tr th {\n",
              "        vertical-align: top;\n",
              "    }\n",
              "\n",
              "    .dataframe thead th {\n",
              "        text-align: right;\n",
              "    }\n",
              "</style>\n",
              "<table border=\"1\" class=\"dataframe\">\n",
              "  <thead>\n",
              "    <tr style=\"text-align: right;\">\n",
              "      <th></th>\n",
              "      <th>PRICE</th>\n",
              "      <th>IV</th>\n",
              "    </tr>\n",
              "    <tr>\n",
              "      <th>lb</th>\n",
              "      <th></th>\n",
              "      <th></th>\n",
              "    </tr>\n",
              "  </thead>\n",
              "  <tbody>\n",
              "    <tr>\n",
              "      <th>02/C20500</th>\n",
              "      <td>400</td>\n",
              "      <td>22.9754</td>\n",
              "    </tr>\n",
              "    <tr>\n",
              "      <th>02/C20625</th>\n",
              "      <td>285</td>\n",
              "      <td>19.9363</td>\n",
              "    </tr>\n",
              "    <tr>\n",
              "      <th>02/C20750</th>\n",
              "      <td>180</td>\n",
              "      <td>17.3610</td>\n",
              "    </tr>\n",
              "    <tr>\n",
              "      <th>03/C20500</th>\n",
              "      <td>590</td>\n",
              "      <td>16.2182</td>\n",
              "    </tr>\n",
              "    <tr>\n",
              "      <th>03/C20625</th>\n",
              "      <td>500</td>\n",
              "      <td>15.6328</td>\n",
              "    </tr>\n",
              "    <tr>\n",
              "      <th>03/C20750</th>\n",
              "      <td>420</td>\n",
              "      <td>15.0987</td>\n",
              "    </tr>\n",
              "    <tr>\n",
              "      <th>02/P20500</th>\n",
              "      <td>12</td>\n",
              "      <td>18.3629</td>\n",
              "    </tr>\n",
              "    <tr>\n",
              "      <th>02/P20625</th>\n",
              "      <td>21</td>\n",
              "      <td>16.2822</td>\n",
              "    </tr>\n",
              "    <tr>\n",
              "      <th>02/P20750</th>\n",
              "      <td>38</td>\n",
              "      <td>14.0248</td>\n",
              "    </tr>\n",
              "    <tr>\n",
              "      <th>03/P20500</th>\n",
              "      <td>220</td>\n",
              "      <td>15.7556</td>\n",
              "    </tr>\n",
              "    <tr>\n",
              "      <th>03/P20625</th>\n",
              "      <td>255</td>\n",
              "      <td>15.1895</td>\n",
              "    </tr>\n",
              "    <tr>\n",
              "      <th>03/P20750</th>\n",
              "      <td>300</td>\n",
              "      <td>14.8030</td>\n",
              "    </tr>\n",
              "  </tbody>\n",
              "</table>\n",
              "</div>"
            ],
            "text/plain": [
              "           PRICE       IV\n",
              "lb                       \n",
              "02/C20500    400  22.9754\n",
              "02/C20625    285  19.9363\n",
              "02/C20750    180  17.3610\n",
              "03/C20500    590  16.2182\n",
              "03/C20625    500  15.6328\n",
              "03/C20750    420  15.0987\n",
              "02/P20500     12  18.3629\n",
              "02/P20625     21  16.2822\n",
              "02/P20750     38  14.0248\n",
              "03/P20500    220  15.7556\n",
              "03/P20625    255  15.1895\n",
              "03/P20750    300  14.8030"
            ]
          },
          "metadata": {
            "tags": []
          },
          "execution_count": 2
        }
      ]
    }
  ]
}